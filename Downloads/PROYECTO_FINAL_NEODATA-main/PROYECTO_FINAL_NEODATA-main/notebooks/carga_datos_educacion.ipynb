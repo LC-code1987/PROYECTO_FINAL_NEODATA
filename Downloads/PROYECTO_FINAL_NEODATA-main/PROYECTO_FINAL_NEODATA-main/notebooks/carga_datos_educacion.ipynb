{
 "cells": [
  {
   "cell_type": "code",
   "execution_count": 1,
   "id": "af06e25b",
   "metadata": {},
   "outputs": [
    {
     "ename": "FileNotFoundError",
     "evalue": "[Errno 2] No such file or directory: 'ESTADISTICAS_EN_EDUCACION.csv'",
     "output_type": "error",
     "traceback": [
      "\u001b[31m---------------------------------------------------------------------------\u001b[39m",
      "\u001b[31mFileNotFoundError\u001b[39m                         Traceback (most recent call last)",
      "\u001b[36mCell\u001b[39m\u001b[36m \u001b[39m\u001b[32mIn[1]\u001b[39m\u001b[32m, line 5\u001b[39m\n\u001b[32m      2\u001b[39m \u001b[38;5;28;01mimport\u001b[39;00m\u001b[38;5;250m \u001b[39m\u001b[34;01mpandas\u001b[39;00m\u001b[38;5;250m \u001b[39m\u001b[38;5;28;01mas\u001b[39;00m\u001b[38;5;250m \u001b[39m\u001b[34;01mpd\u001b[39;00m\n\u001b[32m      4\u001b[39m \u001b[38;5;66;03m# Paso 2: Cargar el archivo CSV\u001b[39;00m\n\u001b[32m----> \u001b[39m\u001b[32m5\u001b[39m df = \u001b[43mpd\u001b[49m\u001b[43m.\u001b[49m\u001b[43mread_csv\u001b[49m\u001b[43m(\u001b[49m\u001b[33;43m\"\u001b[39;49m\u001b[33;43mESTADISTICAS_EN_EDUCACION.csv\u001b[39;49m\u001b[33;43m\"\u001b[39;49m\u001b[43m)\u001b[49m\n\u001b[32m      8\u001b[39m \u001b[38;5;66;03m# Paso 3: Mostrar las primeras filas\u001b[39;00m\n\u001b[32m      9\u001b[39m df.head()\n",
      "\u001b[36mFile \u001b[39m\u001b[32m~\\AppData\\Roaming\\Python\\Python312\\site-packages\\pandas\\io\\parsers\\readers.py:1026\u001b[39m, in \u001b[36mread_csv\u001b[39m\u001b[34m(filepath_or_buffer, sep, delimiter, header, names, index_col, usecols, dtype, engine, converters, true_values, false_values, skipinitialspace, skiprows, skipfooter, nrows, na_values, keep_default_na, na_filter, verbose, skip_blank_lines, parse_dates, infer_datetime_format, keep_date_col, date_parser, date_format, dayfirst, cache_dates, iterator, chunksize, compression, thousands, decimal, lineterminator, quotechar, quoting, doublequote, escapechar, comment, encoding, encoding_errors, dialect, on_bad_lines, delim_whitespace, low_memory, memory_map, float_precision, storage_options, dtype_backend)\u001b[39m\n\u001b[32m   1013\u001b[39m kwds_defaults = _refine_defaults_read(\n\u001b[32m   1014\u001b[39m     dialect,\n\u001b[32m   1015\u001b[39m     delimiter,\n\u001b[32m   (...)\u001b[39m\u001b[32m   1022\u001b[39m     dtype_backend=dtype_backend,\n\u001b[32m   1023\u001b[39m )\n\u001b[32m   1024\u001b[39m kwds.update(kwds_defaults)\n\u001b[32m-> \u001b[39m\u001b[32m1026\u001b[39m \u001b[38;5;28;01mreturn\u001b[39;00m \u001b[43m_read\u001b[49m\u001b[43m(\u001b[49m\u001b[43mfilepath_or_buffer\u001b[49m\u001b[43m,\u001b[49m\u001b[43m \u001b[49m\u001b[43mkwds\u001b[49m\u001b[43m)\u001b[49m\n",
      "\u001b[36mFile \u001b[39m\u001b[32m~\\AppData\\Roaming\\Python\\Python312\\site-packages\\pandas\\io\\parsers\\readers.py:620\u001b[39m, in \u001b[36m_read\u001b[39m\u001b[34m(filepath_or_buffer, kwds)\u001b[39m\n\u001b[32m    617\u001b[39m _validate_names(kwds.get(\u001b[33m\"\u001b[39m\u001b[33mnames\u001b[39m\u001b[33m\"\u001b[39m, \u001b[38;5;28;01mNone\u001b[39;00m))\n\u001b[32m    619\u001b[39m \u001b[38;5;66;03m# Create the parser.\u001b[39;00m\n\u001b[32m--> \u001b[39m\u001b[32m620\u001b[39m parser = \u001b[43mTextFileReader\u001b[49m\u001b[43m(\u001b[49m\u001b[43mfilepath_or_buffer\u001b[49m\u001b[43m,\u001b[49m\u001b[43m \u001b[49m\u001b[43m*\u001b[49m\u001b[43m*\u001b[49m\u001b[43mkwds\u001b[49m\u001b[43m)\u001b[49m\n\u001b[32m    622\u001b[39m \u001b[38;5;28;01mif\u001b[39;00m chunksize \u001b[38;5;129;01mor\u001b[39;00m iterator:\n\u001b[32m    623\u001b[39m     \u001b[38;5;28;01mreturn\u001b[39;00m parser\n",
      "\u001b[36mFile \u001b[39m\u001b[32m~\\AppData\\Roaming\\Python\\Python312\\site-packages\\pandas\\io\\parsers\\readers.py:1620\u001b[39m, in \u001b[36mTextFileReader.__init__\u001b[39m\u001b[34m(self, f, engine, **kwds)\u001b[39m\n\u001b[32m   1617\u001b[39m     \u001b[38;5;28mself\u001b[39m.options[\u001b[33m\"\u001b[39m\u001b[33mhas_index_names\u001b[39m\u001b[33m\"\u001b[39m] = kwds[\u001b[33m\"\u001b[39m\u001b[33mhas_index_names\u001b[39m\u001b[33m\"\u001b[39m]\n\u001b[32m   1619\u001b[39m \u001b[38;5;28mself\u001b[39m.handles: IOHandles | \u001b[38;5;28;01mNone\u001b[39;00m = \u001b[38;5;28;01mNone\u001b[39;00m\n\u001b[32m-> \u001b[39m\u001b[32m1620\u001b[39m \u001b[38;5;28mself\u001b[39m._engine = \u001b[38;5;28;43mself\u001b[39;49m\u001b[43m.\u001b[49m\u001b[43m_make_engine\u001b[49m\u001b[43m(\u001b[49m\u001b[43mf\u001b[49m\u001b[43m,\u001b[49m\u001b[43m \u001b[49m\u001b[38;5;28;43mself\u001b[39;49m\u001b[43m.\u001b[49m\u001b[43mengine\u001b[49m\u001b[43m)\u001b[49m\n",
      "\u001b[36mFile \u001b[39m\u001b[32m~\\AppData\\Roaming\\Python\\Python312\\site-packages\\pandas\\io\\parsers\\readers.py:1880\u001b[39m, in \u001b[36mTextFileReader._make_engine\u001b[39m\u001b[34m(self, f, engine)\u001b[39m\n\u001b[32m   1878\u001b[39m     \u001b[38;5;28;01mif\u001b[39;00m \u001b[33m\"\u001b[39m\u001b[33mb\u001b[39m\u001b[33m\"\u001b[39m \u001b[38;5;129;01mnot\u001b[39;00m \u001b[38;5;129;01min\u001b[39;00m mode:\n\u001b[32m   1879\u001b[39m         mode += \u001b[33m\"\u001b[39m\u001b[33mb\u001b[39m\u001b[33m\"\u001b[39m\n\u001b[32m-> \u001b[39m\u001b[32m1880\u001b[39m \u001b[38;5;28mself\u001b[39m.handles = \u001b[43mget_handle\u001b[49m\u001b[43m(\u001b[49m\n\u001b[32m   1881\u001b[39m \u001b[43m    \u001b[49m\u001b[43mf\u001b[49m\u001b[43m,\u001b[49m\n\u001b[32m   1882\u001b[39m \u001b[43m    \u001b[49m\u001b[43mmode\u001b[49m\u001b[43m,\u001b[49m\n\u001b[32m   1883\u001b[39m \u001b[43m    \u001b[49m\u001b[43mencoding\u001b[49m\u001b[43m=\u001b[49m\u001b[38;5;28;43mself\u001b[39;49m\u001b[43m.\u001b[49m\u001b[43moptions\u001b[49m\u001b[43m.\u001b[49m\u001b[43mget\u001b[49m\u001b[43m(\u001b[49m\u001b[33;43m\"\u001b[39;49m\u001b[33;43mencoding\u001b[39;49m\u001b[33;43m\"\u001b[39;49m\u001b[43m,\u001b[49m\u001b[43m \u001b[49m\u001b[38;5;28;43;01mNone\u001b[39;49;00m\u001b[43m)\u001b[49m\u001b[43m,\u001b[49m\n\u001b[32m   1884\u001b[39m \u001b[43m    \u001b[49m\u001b[43mcompression\u001b[49m\u001b[43m=\u001b[49m\u001b[38;5;28;43mself\u001b[39;49m\u001b[43m.\u001b[49m\u001b[43moptions\u001b[49m\u001b[43m.\u001b[49m\u001b[43mget\u001b[49m\u001b[43m(\u001b[49m\u001b[33;43m\"\u001b[39;49m\u001b[33;43mcompression\u001b[39;49m\u001b[33;43m\"\u001b[39;49m\u001b[43m,\u001b[49m\u001b[43m \u001b[49m\u001b[38;5;28;43;01mNone\u001b[39;49;00m\u001b[43m)\u001b[49m\u001b[43m,\u001b[49m\n\u001b[32m   1885\u001b[39m \u001b[43m    \u001b[49m\u001b[43mmemory_map\u001b[49m\u001b[43m=\u001b[49m\u001b[38;5;28;43mself\u001b[39;49m\u001b[43m.\u001b[49m\u001b[43moptions\u001b[49m\u001b[43m.\u001b[49m\u001b[43mget\u001b[49m\u001b[43m(\u001b[49m\u001b[33;43m\"\u001b[39;49m\u001b[33;43mmemory_map\u001b[39;49m\u001b[33;43m\"\u001b[39;49m\u001b[43m,\u001b[49m\u001b[43m \u001b[49m\u001b[38;5;28;43;01mFalse\u001b[39;49;00m\u001b[43m)\u001b[49m\u001b[43m,\u001b[49m\n\u001b[32m   1886\u001b[39m \u001b[43m    \u001b[49m\u001b[43mis_text\u001b[49m\u001b[43m=\u001b[49m\u001b[43mis_text\u001b[49m\u001b[43m,\u001b[49m\n\u001b[32m   1887\u001b[39m \u001b[43m    \u001b[49m\u001b[43merrors\u001b[49m\u001b[43m=\u001b[49m\u001b[38;5;28;43mself\u001b[39;49m\u001b[43m.\u001b[49m\u001b[43moptions\u001b[49m\u001b[43m.\u001b[49m\u001b[43mget\u001b[49m\u001b[43m(\u001b[49m\u001b[33;43m\"\u001b[39;49m\u001b[33;43mencoding_errors\u001b[39;49m\u001b[33;43m\"\u001b[39;49m\u001b[43m,\u001b[49m\u001b[43m \u001b[49m\u001b[33;43m\"\u001b[39;49m\u001b[33;43mstrict\u001b[39;49m\u001b[33;43m\"\u001b[39;49m\u001b[43m)\u001b[49m\u001b[43m,\u001b[49m\n\u001b[32m   1888\u001b[39m \u001b[43m    \u001b[49m\u001b[43mstorage_options\u001b[49m\u001b[43m=\u001b[49m\u001b[38;5;28;43mself\u001b[39;49m\u001b[43m.\u001b[49m\u001b[43moptions\u001b[49m\u001b[43m.\u001b[49m\u001b[43mget\u001b[49m\u001b[43m(\u001b[49m\u001b[33;43m\"\u001b[39;49m\u001b[33;43mstorage_options\u001b[39;49m\u001b[33;43m\"\u001b[39;49m\u001b[43m,\u001b[49m\u001b[43m \u001b[49m\u001b[38;5;28;43;01mNone\u001b[39;49;00m\u001b[43m)\u001b[49m\u001b[43m,\u001b[49m\n\u001b[32m   1889\u001b[39m \u001b[43m\u001b[49m\u001b[43m)\u001b[49m\n\u001b[32m   1890\u001b[39m \u001b[38;5;28;01massert\u001b[39;00m \u001b[38;5;28mself\u001b[39m.handles \u001b[38;5;129;01mis\u001b[39;00m \u001b[38;5;129;01mnot\u001b[39;00m \u001b[38;5;28;01mNone\u001b[39;00m\n\u001b[32m   1891\u001b[39m f = \u001b[38;5;28mself\u001b[39m.handles.handle\n",
      "\u001b[36mFile \u001b[39m\u001b[32m~\\AppData\\Roaming\\Python\\Python312\\site-packages\\pandas\\io\\common.py:873\u001b[39m, in \u001b[36mget_handle\u001b[39m\u001b[34m(path_or_buf, mode, encoding, compression, memory_map, is_text, errors, storage_options)\u001b[39m\n\u001b[32m    868\u001b[39m \u001b[38;5;28;01melif\u001b[39;00m \u001b[38;5;28misinstance\u001b[39m(handle, \u001b[38;5;28mstr\u001b[39m):\n\u001b[32m    869\u001b[39m     \u001b[38;5;66;03m# Check whether the filename is to be opened in binary mode.\u001b[39;00m\n\u001b[32m    870\u001b[39m     \u001b[38;5;66;03m# Binary mode does not support 'encoding' and 'newline'.\u001b[39;00m\n\u001b[32m    871\u001b[39m     \u001b[38;5;28;01mif\u001b[39;00m ioargs.encoding \u001b[38;5;129;01mand\u001b[39;00m \u001b[33m\"\u001b[39m\u001b[33mb\u001b[39m\u001b[33m\"\u001b[39m \u001b[38;5;129;01mnot\u001b[39;00m \u001b[38;5;129;01min\u001b[39;00m ioargs.mode:\n\u001b[32m    872\u001b[39m         \u001b[38;5;66;03m# Encoding\u001b[39;00m\n\u001b[32m--> \u001b[39m\u001b[32m873\u001b[39m         handle = \u001b[38;5;28;43mopen\u001b[39;49m\u001b[43m(\u001b[49m\n\u001b[32m    874\u001b[39m \u001b[43m            \u001b[49m\u001b[43mhandle\u001b[49m\u001b[43m,\u001b[49m\n\u001b[32m    875\u001b[39m \u001b[43m            \u001b[49m\u001b[43mioargs\u001b[49m\u001b[43m.\u001b[49m\u001b[43mmode\u001b[49m\u001b[43m,\u001b[49m\n\u001b[32m    876\u001b[39m \u001b[43m            \u001b[49m\u001b[43mencoding\u001b[49m\u001b[43m=\u001b[49m\u001b[43mioargs\u001b[49m\u001b[43m.\u001b[49m\u001b[43mencoding\u001b[49m\u001b[43m,\u001b[49m\n\u001b[32m    877\u001b[39m \u001b[43m            \u001b[49m\u001b[43merrors\u001b[49m\u001b[43m=\u001b[49m\u001b[43merrors\u001b[49m\u001b[43m,\u001b[49m\n\u001b[32m    878\u001b[39m \u001b[43m            \u001b[49m\u001b[43mnewline\u001b[49m\u001b[43m=\u001b[49m\u001b[33;43m\"\u001b[39;49m\u001b[33;43m\"\u001b[39;49m\u001b[43m,\u001b[49m\n\u001b[32m    879\u001b[39m \u001b[43m        \u001b[49m\u001b[43m)\u001b[49m\n\u001b[32m    880\u001b[39m     \u001b[38;5;28;01melse\u001b[39;00m:\n\u001b[32m    881\u001b[39m         \u001b[38;5;66;03m# Binary mode\u001b[39;00m\n\u001b[32m    882\u001b[39m         handle = \u001b[38;5;28mopen\u001b[39m(handle, ioargs.mode)\n",
      "\u001b[31mFileNotFoundError\u001b[39m: [Errno 2] No such file or directory: 'ESTADISTICAS_EN_EDUCACION.csv'"
     ]
    }
   ],
   "source": [
    "# Paso 1: Importar librerías\n",
    "import pandas as pd\n",
    "\n",
    "# Paso 2: Cargar el archivo CSV\n",
    "df = pd.read_csv(\"ESTADISTICAS_EN_EDUCACION.csv\")\n",
    "\n",
    "\n",
    "# Paso 3: Mostrar las primeras filas\n",
    "df.head()\n"
   ]
  },
  {
   "cell_type": "markdown",
   "id": "b639ea9f",
   "metadata": {},
   "source": [
    "Tipos de datos y valores faltantes"
   ]
  },
  {
   "cell_type": "code",
   "execution_count": 2,
   "id": "0320c8be",
   "metadata": {},
   "outputs": [
    {
     "name": "stdout",
     "output_type": "stream",
     "text": [
      "Filas y columnas: (14585, 41)\n"
     ]
    },
    {
     "data": {
      "text/plain": [
       "['AÑO',\n",
       " 'CÓDIGO_MUNICIPIO',\n",
       " 'MUNICIPIO',\n",
       " 'CÓDIGO_DEPARTAMENTO',\n",
       " 'DEPARTAMENTO',\n",
       " 'CÓDIGO_ETC',\n",
       " 'ETC',\n",
       " 'POBLACIÓN_5_16',\n",
       " 'TASA_MATRICULACIÓN_5_16',\n",
       " 'COBERTURA_NETA',\n",
       " 'COBERTURA_NETA_TRANSICIÓN',\n",
       " 'COBERTURA_NETA_PRIMARIA',\n",
       " 'COBERTURA_NETA_SECUNDARIA',\n",
       " 'COBERTURA_NETA_MEDIA',\n",
       " 'COBERTURA_BRUTA',\n",
       " 'COBERTURA_BRUTA_TRANSICIÓN',\n",
       " 'COBERTURA_BRUTA_PRIMARIA',\n",
       " 'COBERTURA_BRUTA_SECUNDARIA',\n",
       " 'COBERTURA_BRUTA_MEDIA',\n",
       " 'TAMAÑO_PROMEDIO_DE_GRUPO',\n",
       " 'SEDES_CONECTADAS_A_INTERNET',\n",
       " 'DESERCIÓN',\n",
       " 'DESERCIÓN_TRANSICIÓN',\n",
       " 'DESERCIÓN_PRIMARIA',\n",
       " 'DESERCIÓN_SECUNDARIA',\n",
       " 'DESERCIÓN_MEDIA',\n",
       " 'APROBACIÓN',\n",
       " 'APROBACIÓN_TRANSICIÓN',\n",
       " 'APROBACIÓN_PRIMARIA',\n",
       " 'APROBACIÓN_SECUNDARIA',\n",
       " 'APROBACIÓN_MEDIA',\n",
       " 'REPROBACIÓN',\n",
       " 'REPROBACIÓN_TRANSICIÓN',\n",
       " 'REPROBACIÓN_PRIMARIA',\n",
       " 'REPROBACIÓN_SECUNDARIA',\n",
       " 'REPROBACIÓN_MEDIA',\n",
       " 'REPITENCIA',\n",
       " 'REPITENCIA_TRANSICIÓN',\n",
       " 'REPITENCIA_PRIMARIA',\n",
       " 'REPITENCIA_SECUNDARIA',\n",
       " 'REPITENCIA_MEDIA']"
      ]
     },
     "execution_count": 2,
     "metadata": {},
     "output_type": "execute_result"
    }
   ],
   "source": [
    "# Ver cuántas filas y columnas tiene\n",
    "print(f\"Filas y columnas: {df.shape}\")\n",
    "\n",
    "# Mostrar los nombres de las columnas\n",
    "df.columns.tolist()\n"
   ]
  },
  {
   "cell_type": "code",
   "execution_count": 3,
   "id": "08ff9a31",
   "metadata": {},
   "outputs": [
    {
     "data": {
      "application/vnd.microsoft.datawrangler.viewer.v0+json": {
       "columns": [
        {
         "name": "index",
         "rawType": "object",
         "type": "string"
        },
        {
         "name": "0",
         "rawType": "int64",
         "type": "integer"
        }
       ],
       "ref": "c18c9063-24c7-4735-8718-1693edb79b00",
       "rows": [
        [
         "TAMAÑO_PROMEDIO_DE_GRUPO",
         "7013"
        ],
        [
         "SEDES_CONECTADAS_A_INTERNET",
         "6817"
        ],
        [
         "DESERCIÓN_TRANSICIÓN",
         "903"
        ],
        [
         "DESERCIÓN_MEDIA",
         "734"
        ],
        [
         "DESERCIÓN_SECUNDARIA",
         "270"
        ],
        [
         "DESERCIÓN_PRIMARIA",
         "242"
        ],
        [
         "REPITENCIA_TRANSICIÓN",
         "159"
        ],
        [
         "REPITENCIA_SECUNDARIA",
         "152"
        ],
        [
         "REPITENCIA_PRIMARIA",
         "148"
        ],
        [
         "REPROBACIÓN_MEDIA",
         "145"
        ],
        [
         "REPITENCIA",
         "143"
        ],
        [
         "DESERCIÓN",
         "142"
        ],
        [
         "REPITENCIA_MEDIA",
         "139"
        ],
        [
         "COBERTURA_BRUTA_MEDIA",
         "127"
        ],
        [
         "TASA_MATRICULACIÓN_5_16",
         "115"
        ],
        [
         "COBERTURA_NETA",
         "111"
        ],
        [
         "REPROBACIÓN_SECUNDARIA",
         "106"
        ],
        [
         "APROBACIÓN_MEDIA",
         "101"
        ],
        [
         "REPROBACIÓN_PRIMARIA",
         "97"
        ],
        [
         "COBERTURA_BRUTA_TRANSICIÓN",
         "97"
        ],
        [
         "COBERTURA_NETA_SECUNDARIA",
         "94"
        ],
        [
         "APROBACIÓN_TRANSICIÓN",
         "93"
        ],
        [
         "COBERTURA_NETA_MEDIA",
         "93"
        ],
        [
         "REPROBACIÓN_TRANSICIÓN",
         "93"
        ],
        [
         "COBERTURA_NETA_PRIMARIA",
         "91"
        ],
        [
         "COBERTURA_BRUTA_SECUNDARIA",
         "88"
        ],
        [
         "REPROBACIÓN",
         "86"
        ],
        [
         "COBERTURA_BRUTA_PRIMARIA",
         "81"
        ],
        [
         "COBERTURA_BRUTA",
         "68"
        ],
        [
         "APROBACIÓN_SECUNDARIA",
         "54"
        ],
        [
         "COBERTURA_NETA_TRANSICIÓN",
         "52"
        ],
        [
         "APROBACIÓN",
         "25"
        ],
        [
         "APROBACIÓN_PRIMARIA",
         "25"
        ],
        [
         "POBLACIÓN_5_16",
         "6"
        ],
        [
         "CÓDIGO_ETC",
         "0"
        ],
        [
         "CÓDIGO_DEPARTAMENTO",
         "0"
        ],
        [
         "ETC",
         "0"
        ],
        [
         "MUNICIPIO",
         "0"
        ],
        [
         "CÓDIGO_MUNICIPIO",
         "0"
        ],
        [
         "AÑO",
         "0"
        ],
        [
         "DEPARTAMENTO",
         "0"
        ]
       ],
       "shape": {
        "columns": 1,
        "rows": 41
       }
      },
      "text/plain": [
       "TAMAÑO_PROMEDIO_DE_GRUPO       7013\n",
       "SEDES_CONECTADAS_A_INTERNET    6817\n",
       "DESERCIÓN_TRANSICIÓN            903\n",
       "DESERCIÓN_MEDIA                 734\n",
       "DESERCIÓN_SECUNDARIA            270\n",
       "DESERCIÓN_PRIMARIA              242\n",
       "REPITENCIA_TRANSICIÓN           159\n",
       "REPITENCIA_SECUNDARIA           152\n",
       "REPITENCIA_PRIMARIA             148\n",
       "REPROBACIÓN_MEDIA               145\n",
       "REPITENCIA                      143\n",
       "DESERCIÓN                       142\n",
       "REPITENCIA_MEDIA                139\n",
       "COBERTURA_BRUTA_MEDIA           127\n",
       "TASA_MATRICULACIÓN_5_16         115\n",
       "COBERTURA_NETA                  111\n",
       "REPROBACIÓN_SECUNDARIA          106\n",
       "APROBACIÓN_MEDIA                101\n",
       "REPROBACIÓN_PRIMARIA             97\n",
       "COBERTURA_BRUTA_TRANSICIÓN       97\n",
       "COBERTURA_NETA_SECUNDARIA        94\n",
       "APROBACIÓN_TRANSICIÓN            93\n",
       "COBERTURA_NETA_MEDIA             93\n",
       "REPROBACIÓN_TRANSICIÓN           93\n",
       "COBERTURA_NETA_PRIMARIA          91\n",
       "COBERTURA_BRUTA_SECUNDARIA       88\n",
       "REPROBACIÓN                      86\n",
       "COBERTURA_BRUTA_PRIMARIA         81\n",
       "COBERTURA_BRUTA                  68\n",
       "APROBACIÓN_SECUNDARIA            54\n",
       "COBERTURA_NETA_TRANSICIÓN        52\n",
       "APROBACIÓN                       25\n",
       "APROBACIÓN_PRIMARIA              25\n",
       "POBLACIÓN_5_16                    6\n",
       "CÓDIGO_ETC                        0\n",
       "CÓDIGO_DEPARTAMENTO               0\n",
       "ETC                               0\n",
       "MUNICIPIO                         0\n",
       "CÓDIGO_MUNICIPIO                  0\n",
       "AÑO                               0\n",
       "DEPARTAMENTO                      0\n",
       "dtype: int64"
      ]
     },
     "execution_count": 3,
     "metadata": {},
     "output_type": "execute_result"
    }
   ],
   "source": [
    "# Ver el tipo de datos por columna\n",
    "df.dtypes\n",
    "\n",
    "# Contar valores nulos por columna\n",
    "df.isnull().sum().sort_values(ascending=False)\n"
   ]
  },
  {
   "cell_type": "code",
   "execution_count": null,
   "id": "90f75b57",
   "metadata": {},
   "outputs": [
    {
     "data": {
      "application/vnd.microsoft.datawrangler.viewer.v0+json": {
       "columns": [
        {
         "name": "index",
         "rawType": "object",
         "type": "string"
        },
        {
         "name": "count",
         "rawType": "float64",
         "type": "float"
        },
        {
         "name": "mean",
         "rawType": "float64",
         "type": "float"
        },
        {
         "name": "std",
         "rawType": "float64",
         "type": "float"
        },
        {
         "name": "min",
         "rawType": "float64",
         "type": "float"
        },
        {
         "name": "25%",
         "rawType": "float64",
         "type": "float"
        },
        {
         "name": "50%",
         "rawType": "float64",
         "type": "float"
        },
        {
         "name": "75%",
         "rawType": "float64",
         "type": "float"
        },
        {
         "name": "max",
         "rawType": "float64",
         "type": "float"
        }
       ],
       "ref": "1629e583-0924-4a1f-8ecd-6b470dafd4c7",
       "rows": [
        [
         "AÑO",
         "14585.0",
         "2016.9993829276655",
         "3.741391604559595",
         "2011.0",
         "2014.0",
         "2017.0",
         "2020.0",
         "2023.0"
        ],
        [
         "CÓDIGO_MUNICIPIO",
         "14585.0",
         "38693.10366815221",
         "26554.514246015315",
         "0.0",
         "15676.0",
         "25839.0",
         "66572.0",
         "99773.0"
        ],
        [
         "CÓDIGO_DEPARTAMENTO",
         "14585.0",
         "38.259376071306136",
         "26.567883355064975",
         "0.0",
         "15.0",
         "25.0",
         "66.0",
         "99.0"
        ],
        [
         "CÓDIGO_ETC",
         "14585.0",
         "3541.003355707919",
         "1126.6300867209072",
         "0.0",
         "3769.0",
         "3785.0",
         "3805.0",
         "10930.0"
        ],
        [
         "TASA_MATRICULACIÓN_5_16",
         "14470.0",
         "84.97192935729095",
         "18.589112165019838",
         "0.0",
         "74.85",
         "85.33",
         "95.38",
         "279.03"
        ],
        [
         "COBERTURA_NETA",
         "14474.0",
         "85.55319553682465",
         "16.932350963084374",
         "0.0",
         "76.89",
         "86.4",
         "94.54",
         "264.54"
        ],
        [
         "COBERTURA_NETA_TRANSICIÓN",
         "14533.0",
         "57.69237833895273",
         "16.198610394466186",
         "0.0",
         "47.5",
         "57.9",
         "68.0",
         "150.47"
        ],
        [
         "COBERTURA_NETA_PRIMARIA",
         "14494.0",
         "82.56673176486822",
         "17.203599973612057",
         "0.0",
         "73.21",
         "82.83",
         "91.9375",
         "254.96"
        ],
        [
         "COBERTURA_NETA_SECUNDARIA",
         "14491.0",
         "69.90555513767166",
         "18.83093236597935",
         "0.0",
         "60.394999999999996",
         "70.9",
         "80.56",
         "229.44"
        ],
        [
         "COBERTURA_NETA_MEDIA",
         "14492.0",
         "40.746976214463146",
         "15.629010976578284",
         "0.0",
         "31.11",
         "41.165",
         "50.54",
         "170.26"
        ],
        [
         "COBERTURA_BRUTA",
         "14517.0",
         "99.69505200799063",
         "148.679901361184",
         "0.0",
         "85.68",
         "97.5",
         "109.26",
         "10448.0"
        ],
        [
         "COBERTURA_BRUTA_TRANSICIÓN",
         "14488.0",
         "87.13030176007732",
         "25.565918945935895",
         "0.0",
         "71.43",
         "85.21",
         "100.0",
         "259.29"
        ],
        [
         "COBERTURA_BRUTA_PRIMARIA",
         "14504.0",
         "107.30097283507997",
         "154.84379921262797",
         "0.0",
         "89.8",
         "103.32",
         "117.7",
         "10936.0"
        ],
        [
         "COBERTURA_BRUTA_SECUNDARIA",
         "14497.0",
         "103.38242050079326",
         "158.49487983330025",
         "0.0",
         "86.51",
         "101.54",
         "115.74",
         "11065.0"
        ],
        [
         "COBERTURA_BRUTA_MEDIA",
         "14458.0",
         "75.85578706598422",
         "26.992693889870846",
         "0.0",
         "59.6125",
         "75.25",
         "90.3775",
         "489.62"
        ],
        [
         "TAMAÑO_PROMEDIO_DE_GRUPO",
         "7572.0",
         "23.95221130480719",
         "7.704223149159489",
         "3.0",
         "19.42975",
         "23.96",
         "27.84025",
         "54.03"
        ],
        [
         "SEDES_CONECTADAS_A_INTERNET",
         "7768.0",
         "34.83142378990731",
         "26.183508772520238",
         "0.0",
         "14.29",
         "28.13",
         "50.0",
         "100.0"
        ],
        [
         "DESERCIÓN",
         "14443.0",
         "3.489914996884304",
         "2.17257042341641",
         "0.0",
         "1.93",
         "3.13",
         "4.66",
         "27.9"
        ],
        [
         "DESERCIÓN_TRANSICIÓN",
         "13682.0",
         "3.486772014325391",
         "2.773626427201808",
         "0.0",
         "1.53",
         "3.0",
         "4.85",
         "42.86"
        ],
        [
         "DESERCIÓN_PRIMARIA",
         "14343.0",
         "2.7566603290803875",
         "2.047772565819042",
         "0.0",
         "1.26",
         "2.32",
         "3.78",
         "18.31"
        ],
        [
         "DESERCIÓN_SECUNDARIA",
         "14315.0",
         "4.577910534404471",
         "3.10292849849287",
         "0.0",
         "2.35",
         "4.04",
         "6.2",
         "47.14"
        ],
        [
         "DESERCIÓN_MEDIA",
         "13851.0",
         "3.466312865497076",
         "3.270654047275465",
         "0.0",
         "1.63",
         "2.84",
         "4.51",
         "62.5"
        ],
        [
         "APROBACIÓN",
         "14560.0",
         "91.60807978021978",
         "5.327795434859818",
         "0.0",
         "88.44",
         "92.02",
         "95.59",
         "100.0"
        ],
        [
         "APROBACIÓN_TRANSICIÓN",
         "14492.0",
         "0.486810502346122",
         "1.653297842663744",
         "0.0",
         "0.0",
         "0.0",
         "0.22",
         "52.71"
        ],
        [
         "APROBACIÓN_PRIMARIA",
         "14560.0",
         "93.2134675892857",
         "5.2160791796088954",
         "0.0",
         "90.56",
         "93.87",
         "96.95",
         "100.0"
        ],
        [
         "APROBACIÓN_SECUNDARIA",
         "14531.0",
         "88.35873243410639",
         "7.971793206340604",
         "0.0",
         "83.63",
         "89.1",
         "94.47",
         "100.0"
        ],
        [
         "APROBACIÓN_MEDIA",
         "14484.0",
         "92.14049540182269",
         "7.01434591455514",
         "0.0",
         "89.42750000000001",
         "93.29",
         "96.43",
         "100.0"
        ],
        [
         "REPROBACIÓN",
         "14499.0",
         "4.757305048624042",
         "3.9995220876267745",
         "0.0",
         "0.92",
         "4.52",
         "7.42",
         "49.39"
        ],
        [
         "REPROBACIÓN_TRANSICIÓN",
         "14492.0",
         "0.486810502346122",
         "1.653297842663744",
         "0.0",
         "0.0",
         "0.0",
         "0.22",
         "52.71"
        ],
        [
         "REPROBACIÓN_PRIMARIA",
         "14488.0",
         "3.8847703340695756",
         "3.802456569400601",
         "0.0",
         "0.41",
         "3.33",
         "6.0",
         "51.97"
        ],
        [
         "REPROBACIÓN_SECUNDARIA",
         "14479.0",
         "6.809006119207127",
         "6.153459594148185",
         "0.0",
         "0.72",
         "6.16",
         "10.83",
         "76.97"
        ],
        [
         "REPROBACIÓN_MEDIA",
         "14440.0",
         "4.130811980609418",
         "4.211765769218644",
         "0.0",
         "0.67",
         "3.1",
         "6.4",
         "67.86"
        ],
        [
         "REPITENCIA",
         "14442.0",
         "3.2994797673452427",
         "3.3697690666995856",
         "0.0",
         "0.72",
         "2.16",
         "5.09",
         "37.47"
        ],
        [
         "REPITENCIA_TRANSICIÓN",
         "14426.0",
         "0.9432281990849855",
         "2.415124842931908",
         "0.0",
         "0.0",
         "0.0",
         "0.93",
         "50.0"
        ],
        [
         "REPITENCIA_PRIMARIA",
         "14437.0",
         "3.1695043153009625",
         "3.644108183997918",
         "0.0",
         "0.59",
         "1.88",
         "4.59",
         "50.76"
        ],
        [
         "REPITENCIA_SECUNDARIA",
         "14433.0",
         "4.326487348437608",
         "4.548737946885865",
         "0.0",
         "0.73",
         "2.74",
         "6.82",
         "55.07"
        ],
        [
         "REPITENCIA_MEDIA",
         "14446.0",
         "1.697890191056348",
         "2.28412064959233",
         "0.0",
         "0.0",
         "0.87",
         "2.56",
         "36.45"
        ]
       ],
       "shape": {
        "columns": 8,
        "rows": 37
       }
      },
      "text/html": [
       "<div>\n",
       "<style scoped>\n",
       "    .dataframe tbody tr th:only-of-type {\n",
       "        vertical-align: middle;\n",
       "    }\n",
       "\n",
       "    .dataframe tbody tr th {\n",
       "        vertical-align: top;\n",
       "    }\n",
       "\n",
       "    .dataframe thead th {\n",
       "        text-align: right;\n",
       "    }\n",
       "</style>\n",
       "<table border=\"1\" class=\"dataframe\">\n",
       "  <thead>\n",
       "    <tr style=\"text-align: right;\">\n",
       "      <th></th>\n",
       "      <th>count</th>\n",
       "      <th>mean</th>\n",
       "      <th>std</th>\n",
       "      <th>min</th>\n",
       "      <th>25%</th>\n",
       "      <th>50%</th>\n",
       "      <th>75%</th>\n",
       "      <th>max</th>\n",
       "    </tr>\n",
       "  </thead>\n",
       "  <tbody>\n",
       "    <tr>\n",
       "      <th>AÑO</th>\n",
       "      <td>14585.0</td>\n",
       "      <td>2016.999383</td>\n",
       "      <td>3.741392</td>\n",
       "      <td>2011.0</td>\n",
       "      <td>2014.00000</td>\n",
       "      <td>2017.000</td>\n",
       "      <td>2020.00000</td>\n",
       "      <td>2023.00</td>\n",
       "    </tr>\n",
       "    <tr>\n",
       "      <th>CÓDIGO_MUNICIPIO</th>\n",
       "      <td>14585.0</td>\n",
       "      <td>38693.103668</td>\n",
       "      <td>26554.514246</td>\n",
       "      <td>0.0</td>\n",
       "      <td>15676.00000</td>\n",
       "      <td>25839.000</td>\n",
       "      <td>66572.00000</td>\n",
       "      <td>99773.00</td>\n",
       "    </tr>\n",
       "    <tr>\n",
       "      <th>CÓDIGO_DEPARTAMENTO</th>\n",
       "      <td>14585.0</td>\n",
       "      <td>38.259376</td>\n",
       "      <td>26.567883</td>\n",
       "      <td>0.0</td>\n",
       "      <td>15.00000</td>\n",
       "      <td>25.000</td>\n",
       "      <td>66.00000</td>\n",
       "      <td>99.00</td>\n",
       "    </tr>\n",
       "    <tr>\n",
       "      <th>CÓDIGO_ETC</th>\n",
       "      <td>14585.0</td>\n",
       "      <td>3541.003356</td>\n",
       "      <td>1126.630087</td>\n",
       "      <td>0.0</td>\n",
       "      <td>3769.00000</td>\n",
       "      <td>3785.000</td>\n",
       "      <td>3805.00000</td>\n",
       "      <td>10930.00</td>\n",
       "    </tr>\n",
       "    <tr>\n",
       "      <th>TASA_MATRICULACIÓN_5_16</th>\n",
       "      <td>14470.0</td>\n",
       "      <td>84.971929</td>\n",
       "      <td>18.589112</td>\n",
       "      <td>0.0</td>\n",
       "      <td>74.85000</td>\n",
       "      <td>85.330</td>\n",
       "      <td>95.38000</td>\n",
       "      <td>279.03</td>\n",
       "    </tr>\n",
       "    <tr>\n",
       "      <th>COBERTURA_NETA</th>\n",
       "      <td>14474.0</td>\n",
       "      <td>85.553196</td>\n",
       "      <td>16.932351</td>\n",
       "      <td>0.0</td>\n",
       "      <td>76.89000</td>\n",
       "      <td>86.400</td>\n",
       "      <td>94.54000</td>\n",
       "      <td>264.54</td>\n",
       "    </tr>\n",
       "    <tr>\n",
       "      <th>COBERTURA_NETA_TRANSICIÓN</th>\n",
       "      <td>14533.0</td>\n",
       "      <td>57.692378</td>\n",
       "      <td>16.198610</td>\n",
       "      <td>0.0</td>\n",
       "      <td>47.50000</td>\n",
       "      <td>57.900</td>\n",
       "      <td>68.00000</td>\n",
       "      <td>150.47</td>\n",
       "    </tr>\n",
       "    <tr>\n",
       "      <th>COBERTURA_NETA_PRIMARIA</th>\n",
       "      <td>14494.0</td>\n",
       "      <td>82.566732</td>\n",
       "      <td>17.203600</td>\n",
       "      <td>0.0</td>\n",
       "      <td>73.21000</td>\n",
       "      <td>82.830</td>\n",
       "      <td>91.93750</td>\n",
       "      <td>254.96</td>\n",
       "    </tr>\n",
       "    <tr>\n",
       "      <th>COBERTURA_NETA_SECUNDARIA</th>\n",
       "      <td>14491.0</td>\n",
       "      <td>69.905555</td>\n",
       "      <td>18.830932</td>\n",
       "      <td>0.0</td>\n",
       "      <td>60.39500</td>\n",
       "      <td>70.900</td>\n",
       "      <td>80.56000</td>\n",
       "      <td>229.44</td>\n",
       "    </tr>\n",
       "    <tr>\n",
       "      <th>COBERTURA_NETA_MEDIA</th>\n",
       "      <td>14492.0</td>\n",
       "      <td>40.746976</td>\n",
       "      <td>15.629011</td>\n",
       "      <td>0.0</td>\n",
       "      <td>31.11000</td>\n",
       "      <td>41.165</td>\n",
       "      <td>50.54000</td>\n",
       "      <td>170.26</td>\n",
       "    </tr>\n",
       "    <tr>\n",
       "      <th>COBERTURA_BRUTA</th>\n",
       "      <td>14517.0</td>\n",
       "      <td>99.695052</td>\n",
       "      <td>148.679901</td>\n",
       "      <td>0.0</td>\n",
       "      <td>85.68000</td>\n",
       "      <td>97.500</td>\n",
       "      <td>109.26000</td>\n",
       "      <td>10448.00</td>\n",
       "    </tr>\n",
       "    <tr>\n",
       "      <th>COBERTURA_BRUTA_TRANSICIÓN</th>\n",
       "      <td>14488.0</td>\n",
       "      <td>87.130302</td>\n",
       "      <td>25.565919</td>\n",
       "      <td>0.0</td>\n",
       "      <td>71.43000</td>\n",
       "      <td>85.210</td>\n",
       "      <td>100.00000</td>\n",
       "      <td>259.29</td>\n",
       "    </tr>\n",
       "    <tr>\n",
       "      <th>COBERTURA_BRUTA_PRIMARIA</th>\n",
       "      <td>14504.0</td>\n",
       "      <td>107.300973</td>\n",
       "      <td>154.843799</td>\n",
       "      <td>0.0</td>\n",
       "      <td>89.80000</td>\n",
       "      <td>103.320</td>\n",
       "      <td>117.70000</td>\n",
       "      <td>10936.00</td>\n",
       "    </tr>\n",
       "    <tr>\n",
       "      <th>COBERTURA_BRUTA_SECUNDARIA</th>\n",
       "      <td>14497.0</td>\n",
       "      <td>103.382421</td>\n",
       "      <td>158.494880</td>\n",
       "      <td>0.0</td>\n",
       "      <td>86.51000</td>\n",
       "      <td>101.540</td>\n",
       "      <td>115.74000</td>\n",
       "      <td>11065.00</td>\n",
       "    </tr>\n",
       "    <tr>\n",
       "      <th>COBERTURA_BRUTA_MEDIA</th>\n",
       "      <td>14458.0</td>\n",
       "      <td>75.855787</td>\n",
       "      <td>26.992694</td>\n",
       "      <td>0.0</td>\n",
       "      <td>59.61250</td>\n",
       "      <td>75.250</td>\n",
       "      <td>90.37750</td>\n",
       "      <td>489.62</td>\n",
       "    </tr>\n",
       "    <tr>\n",
       "      <th>TAMAÑO_PROMEDIO_DE_GRUPO</th>\n",
       "      <td>7572.0</td>\n",
       "      <td>23.952211</td>\n",
       "      <td>7.704223</td>\n",
       "      <td>3.0</td>\n",
       "      <td>19.42975</td>\n",
       "      <td>23.960</td>\n",
       "      <td>27.84025</td>\n",
       "      <td>54.03</td>\n",
       "    </tr>\n",
       "    <tr>\n",
       "      <th>SEDES_CONECTADAS_A_INTERNET</th>\n",
       "      <td>7768.0</td>\n",
       "      <td>34.831424</td>\n",
       "      <td>26.183509</td>\n",
       "      <td>0.0</td>\n",
       "      <td>14.29000</td>\n",
       "      <td>28.130</td>\n",
       "      <td>50.00000</td>\n",
       "      <td>100.00</td>\n",
       "    </tr>\n",
       "    <tr>\n",
       "      <th>DESERCIÓN</th>\n",
       "      <td>14443.0</td>\n",
       "      <td>3.489915</td>\n",
       "      <td>2.172570</td>\n",
       "      <td>0.0</td>\n",
       "      <td>1.93000</td>\n",
       "      <td>3.130</td>\n",
       "      <td>4.66000</td>\n",
       "      <td>27.90</td>\n",
       "    </tr>\n",
       "    <tr>\n",
       "      <th>DESERCIÓN_TRANSICIÓN</th>\n",
       "      <td>13682.0</td>\n",
       "      <td>3.486772</td>\n",
       "      <td>2.773626</td>\n",
       "      <td>0.0</td>\n",
       "      <td>1.53000</td>\n",
       "      <td>3.000</td>\n",
       "      <td>4.85000</td>\n",
       "      <td>42.86</td>\n",
       "    </tr>\n",
       "    <tr>\n",
       "      <th>DESERCIÓN_PRIMARIA</th>\n",
       "      <td>14343.0</td>\n",
       "      <td>2.756660</td>\n",
       "      <td>2.047773</td>\n",
       "      <td>0.0</td>\n",
       "      <td>1.26000</td>\n",
       "      <td>2.320</td>\n",
       "      <td>3.78000</td>\n",
       "      <td>18.31</td>\n",
       "    </tr>\n",
       "    <tr>\n",
       "      <th>DESERCIÓN_SECUNDARIA</th>\n",
       "      <td>14315.0</td>\n",
       "      <td>4.577911</td>\n",
       "      <td>3.102928</td>\n",
       "      <td>0.0</td>\n",
       "      <td>2.35000</td>\n",
       "      <td>4.040</td>\n",
       "      <td>6.20000</td>\n",
       "      <td>47.14</td>\n",
       "    </tr>\n",
       "    <tr>\n",
       "      <th>DESERCIÓN_MEDIA</th>\n",
       "      <td>13851.0</td>\n",
       "      <td>3.466313</td>\n",
       "      <td>3.270654</td>\n",
       "      <td>0.0</td>\n",
       "      <td>1.63000</td>\n",
       "      <td>2.840</td>\n",
       "      <td>4.51000</td>\n",
       "      <td>62.50</td>\n",
       "    </tr>\n",
       "    <tr>\n",
       "      <th>APROBACIÓN</th>\n",
       "      <td>14560.0</td>\n",
       "      <td>91.608080</td>\n",
       "      <td>5.327795</td>\n",
       "      <td>0.0</td>\n",
       "      <td>88.44000</td>\n",
       "      <td>92.020</td>\n",
       "      <td>95.59000</td>\n",
       "      <td>100.00</td>\n",
       "    </tr>\n",
       "    <tr>\n",
       "      <th>APROBACIÓN_TRANSICIÓN</th>\n",
       "      <td>14492.0</td>\n",
       "      <td>0.486811</td>\n",
       "      <td>1.653298</td>\n",
       "      <td>0.0</td>\n",
       "      <td>0.00000</td>\n",
       "      <td>0.000</td>\n",
       "      <td>0.22000</td>\n",
       "      <td>52.71</td>\n",
       "    </tr>\n",
       "    <tr>\n",
       "      <th>APROBACIÓN_PRIMARIA</th>\n",
       "      <td>14560.0</td>\n",
       "      <td>93.213468</td>\n",
       "      <td>5.216079</td>\n",
       "      <td>0.0</td>\n",
       "      <td>90.56000</td>\n",
       "      <td>93.870</td>\n",
       "      <td>96.95000</td>\n",
       "      <td>100.00</td>\n",
       "    </tr>\n",
       "    <tr>\n",
       "      <th>APROBACIÓN_SECUNDARIA</th>\n",
       "      <td>14531.0</td>\n",
       "      <td>88.358732</td>\n",
       "      <td>7.971793</td>\n",
       "      <td>0.0</td>\n",
       "      <td>83.63000</td>\n",
       "      <td>89.100</td>\n",
       "      <td>94.47000</td>\n",
       "      <td>100.00</td>\n",
       "    </tr>\n",
       "    <tr>\n",
       "      <th>APROBACIÓN_MEDIA</th>\n",
       "      <td>14484.0</td>\n",
       "      <td>92.140495</td>\n",
       "      <td>7.014346</td>\n",
       "      <td>0.0</td>\n",
       "      <td>89.42750</td>\n",
       "      <td>93.290</td>\n",
       "      <td>96.43000</td>\n",
       "      <td>100.00</td>\n",
       "    </tr>\n",
       "    <tr>\n",
       "      <th>REPROBACIÓN</th>\n",
       "      <td>14499.0</td>\n",
       "      <td>4.757305</td>\n",
       "      <td>3.999522</td>\n",
       "      <td>0.0</td>\n",
       "      <td>0.92000</td>\n",
       "      <td>4.520</td>\n",
       "      <td>7.42000</td>\n",
       "      <td>49.39</td>\n",
       "    </tr>\n",
       "    <tr>\n",
       "      <th>REPROBACIÓN_TRANSICIÓN</th>\n",
       "      <td>14492.0</td>\n",
       "      <td>0.486811</td>\n",
       "      <td>1.653298</td>\n",
       "      <td>0.0</td>\n",
       "      <td>0.00000</td>\n",
       "      <td>0.000</td>\n",
       "      <td>0.22000</td>\n",
       "      <td>52.71</td>\n",
       "    </tr>\n",
       "    <tr>\n",
       "      <th>REPROBACIÓN_PRIMARIA</th>\n",
       "      <td>14488.0</td>\n",
       "      <td>3.884770</td>\n",
       "      <td>3.802457</td>\n",
       "      <td>0.0</td>\n",
       "      <td>0.41000</td>\n",
       "      <td>3.330</td>\n",
       "      <td>6.00000</td>\n",
       "      <td>51.97</td>\n",
       "    </tr>\n",
       "    <tr>\n",
       "      <th>REPROBACIÓN_SECUNDARIA</th>\n",
       "      <td>14479.0</td>\n",
       "      <td>6.809006</td>\n",
       "      <td>6.153460</td>\n",
       "      <td>0.0</td>\n",
       "      <td>0.72000</td>\n",
       "      <td>6.160</td>\n",
       "      <td>10.83000</td>\n",
       "      <td>76.97</td>\n",
       "    </tr>\n",
       "    <tr>\n",
       "      <th>REPROBACIÓN_MEDIA</th>\n",
       "      <td>14440.0</td>\n",
       "      <td>4.130812</td>\n",
       "      <td>4.211766</td>\n",
       "      <td>0.0</td>\n",
       "      <td>0.67000</td>\n",
       "      <td>3.100</td>\n",
       "      <td>6.40000</td>\n",
       "      <td>67.86</td>\n",
       "    </tr>\n",
       "    <tr>\n",
       "      <th>REPITENCIA</th>\n",
       "      <td>14442.0</td>\n",
       "      <td>3.299480</td>\n",
       "      <td>3.369769</td>\n",
       "      <td>0.0</td>\n",
       "      <td>0.72000</td>\n",
       "      <td>2.160</td>\n",
       "      <td>5.09000</td>\n",
       "      <td>37.47</td>\n",
       "    </tr>\n",
       "    <tr>\n",
       "      <th>REPITENCIA_TRANSICIÓN</th>\n",
       "      <td>14426.0</td>\n",
       "      <td>0.943228</td>\n",
       "      <td>2.415125</td>\n",
       "      <td>0.0</td>\n",
       "      <td>0.00000</td>\n",
       "      <td>0.000</td>\n",
       "      <td>0.93000</td>\n",
       "      <td>50.00</td>\n",
       "    </tr>\n",
       "    <tr>\n",
       "      <th>REPITENCIA_PRIMARIA</th>\n",
       "      <td>14437.0</td>\n",
       "      <td>3.169504</td>\n",
       "      <td>3.644108</td>\n",
       "      <td>0.0</td>\n",
       "      <td>0.59000</td>\n",
       "      <td>1.880</td>\n",
       "      <td>4.59000</td>\n",
       "      <td>50.76</td>\n",
       "    </tr>\n",
       "    <tr>\n",
       "      <th>REPITENCIA_SECUNDARIA</th>\n",
       "      <td>14433.0</td>\n",
       "      <td>4.326487</td>\n",
       "      <td>4.548738</td>\n",
       "      <td>0.0</td>\n",
       "      <td>0.73000</td>\n",
       "      <td>2.740</td>\n",
       "      <td>6.82000</td>\n",
       "      <td>55.07</td>\n",
       "    </tr>\n",
       "    <tr>\n",
       "      <th>REPITENCIA_MEDIA</th>\n",
       "      <td>14446.0</td>\n",
       "      <td>1.697890</td>\n",
       "      <td>2.284121</td>\n",
       "      <td>0.0</td>\n",
       "      <td>0.00000</td>\n",
       "      <td>0.870</td>\n",
       "      <td>2.56000</td>\n",
       "      <td>36.45</td>\n",
       "    </tr>\n",
       "  </tbody>\n",
       "</table>\n",
       "</div>"
      ],
      "text/plain": [
       "                               count          mean           std     min  \\\n",
       "AÑO                          14585.0   2016.999383      3.741392  2011.0   \n",
       "CÓDIGO_MUNICIPIO             14585.0  38693.103668  26554.514246     0.0   \n",
       "CÓDIGO_DEPARTAMENTO          14585.0     38.259376     26.567883     0.0   \n",
       "CÓDIGO_ETC                   14585.0   3541.003356   1126.630087     0.0   \n",
       "TASA_MATRICULACIÓN_5_16      14470.0     84.971929     18.589112     0.0   \n",
       "COBERTURA_NETA               14474.0     85.553196     16.932351     0.0   \n",
       "COBERTURA_NETA_TRANSICIÓN    14533.0     57.692378     16.198610     0.0   \n",
       "COBERTURA_NETA_PRIMARIA      14494.0     82.566732     17.203600     0.0   \n",
       "COBERTURA_NETA_SECUNDARIA    14491.0     69.905555     18.830932     0.0   \n",
       "COBERTURA_NETA_MEDIA         14492.0     40.746976     15.629011     0.0   \n",
       "COBERTURA_BRUTA              14517.0     99.695052    148.679901     0.0   \n",
       "COBERTURA_BRUTA_TRANSICIÓN   14488.0     87.130302     25.565919     0.0   \n",
       "COBERTURA_BRUTA_PRIMARIA     14504.0    107.300973    154.843799     0.0   \n",
       "COBERTURA_BRUTA_SECUNDARIA   14497.0    103.382421    158.494880     0.0   \n",
       "COBERTURA_BRUTA_MEDIA        14458.0     75.855787     26.992694     0.0   \n",
       "TAMAÑO_PROMEDIO_DE_GRUPO      7572.0     23.952211      7.704223     3.0   \n",
       "SEDES_CONECTADAS_A_INTERNET   7768.0     34.831424     26.183509     0.0   \n",
       "DESERCIÓN                    14443.0      3.489915      2.172570     0.0   \n",
       "DESERCIÓN_TRANSICIÓN         13682.0      3.486772      2.773626     0.0   \n",
       "DESERCIÓN_PRIMARIA           14343.0      2.756660      2.047773     0.0   \n",
       "DESERCIÓN_SECUNDARIA         14315.0      4.577911      3.102928     0.0   \n",
       "DESERCIÓN_MEDIA              13851.0      3.466313      3.270654     0.0   \n",
       "APROBACIÓN                   14560.0     91.608080      5.327795     0.0   \n",
       "APROBACIÓN_TRANSICIÓN        14492.0      0.486811      1.653298     0.0   \n",
       "APROBACIÓN_PRIMARIA          14560.0     93.213468      5.216079     0.0   \n",
       "APROBACIÓN_SECUNDARIA        14531.0     88.358732      7.971793     0.0   \n",
       "APROBACIÓN_MEDIA             14484.0     92.140495      7.014346     0.0   \n",
       "REPROBACIÓN                  14499.0      4.757305      3.999522     0.0   \n",
       "REPROBACIÓN_TRANSICIÓN       14492.0      0.486811      1.653298     0.0   \n",
       "REPROBACIÓN_PRIMARIA         14488.0      3.884770      3.802457     0.0   \n",
       "REPROBACIÓN_SECUNDARIA       14479.0      6.809006      6.153460     0.0   \n",
       "REPROBACIÓN_MEDIA            14440.0      4.130812      4.211766     0.0   \n",
       "REPITENCIA                   14442.0      3.299480      3.369769     0.0   \n",
       "REPITENCIA_TRANSICIÓN        14426.0      0.943228      2.415125     0.0   \n",
       "REPITENCIA_PRIMARIA          14437.0      3.169504      3.644108     0.0   \n",
       "REPITENCIA_SECUNDARIA        14433.0      4.326487      4.548738     0.0   \n",
       "REPITENCIA_MEDIA             14446.0      1.697890      2.284121     0.0   \n",
       "\n",
       "                                     25%        50%          75%       max  \n",
       "AÑO                           2014.00000   2017.000   2020.00000   2023.00  \n",
       "CÓDIGO_MUNICIPIO             15676.00000  25839.000  66572.00000  99773.00  \n",
       "CÓDIGO_DEPARTAMENTO             15.00000     25.000     66.00000     99.00  \n",
       "CÓDIGO_ETC                    3769.00000   3785.000   3805.00000  10930.00  \n",
       "TASA_MATRICULACIÓN_5_16         74.85000     85.330     95.38000    279.03  \n",
       "COBERTURA_NETA                  76.89000     86.400     94.54000    264.54  \n",
       "COBERTURA_NETA_TRANSICIÓN       47.50000     57.900     68.00000    150.47  \n",
       "COBERTURA_NETA_PRIMARIA         73.21000     82.830     91.93750    254.96  \n",
       "COBERTURA_NETA_SECUNDARIA       60.39500     70.900     80.56000    229.44  \n",
       "COBERTURA_NETA_MEDIA            31.11000     41.165     50.54000    170.26  \n",
       "COBERTURA_BRUTA                 85.68000     97.500    109.26000  10448.00  \n",
       "COBERTURA_BRUTA_TRANSICIÓN      71.43000     85.210    100.00000    259.29  \n",
       "COBERTURA_BRUTA_PRIMARIA        89.80000    103.320    117.70000  10936.00  \n",
       "COBERTURA_BRUTA_SECUNDARIA      86.51000    101.540    115.74000  11065.00  \n",
       "COBERTURA_BRUTA_MEDIA           59.61250     75.250     90.37750    489.62  \n",
       "TAMAÑO_PROMEDIO_DE_GRUPO        19.42975     23.960     27.84025     54.03  \n",
       "SEDES_CONECTADAS_A_INTERNET     14.29000     28.130     50.00000    100.00  \n",
       "DESERCIÓN                        1.93000      3.130      4.66000     27.90  \n",
       "DESERCIÓN_TRANSICIÓN             1.53000      3.000      4.85000     42.86  \n",
       "DESERCIÓN_PRIMARIA               1.26000      2.320      3.78000     18.31  \n",
       "DESERCIÓN_SECUNDARIA             2.35000      4.040      6.20000     47.14  \n",
       "DESERCIÓN_MEDIA                  1.63000      2.840      4.51000     62.50  \n",
       "APROBACIÓN                      88.44000     92.020     95.59000    100.00  \n",
       "APROBACIÓN_TRANSICIÓN            0.00000      0.000      0.22000     52.71  \n",
       "APROBACIÓN_PRIMARIA             90.56000     93.870     96.95000    100.00  \n",
       "APROBACIÓN_SECUNDARIA           83.63000     89.100     94.47000    100.00  \n",
       "APROBACIÓN_MEDIA                89.42750     93.290     96.43000    100.00  \n",
       "REPROBACIÓN                      0.92000      4.520      7.42000     49.39  \n",
       "REPROBACIÓN_TRANSICIÓN           0.00000      0.000      0.22000     52.71  \n",
       "REPROBACIÓN_PRIMARIA             0.41000      3.330      6.00000     51.97  \n",
       "REPROBACIÓN_SECUNDARIA           0.72000      6.160     10.83000     76.97  \n",
       "REPROBACIÓN_MEDIA                0.67000      3.100      6.40000     67.86  \n",
       "REPITENCIA                       0.72000      2.160      5.09000     37.47  \n",
       "REPITENCIA_TRANSICIÓN            0.00000      0.000      0.93000     50.00  \n",
       "REPITENCIA_PRIMARIA              0.59000      1.880      4.59000     50.76  \n",
       "REPITENCIA_SECUNDARIA            0.73000      2.740      6.82000     55.07  \n",
       "REPITENCIA_MEDIA                 0.00000      0.870      2.56000     36.45  "
      ]
     },
     "execution_count": 4,
     "metadata": {},
     "output_type": "execute_result"
    }
   ],
   "source": [
    "# Estadísticas básicas\n",
    "df.describe().T\n"
   ]
  },
  {
   "cell_type": "code",
   "execution_count": 5,
   "id": "4e2c5625",
   "metadata": {},
   "outputs": [
    {
     "data": {
      "application/vnd.microsoft.datawrangler.viewer.v0+json": {
       "columns": [
        {
         "name": "MUNICIPIO",
         "rawType": "object",
         "type": "string"
        },
        {
         "name": "count",
         "rawType": "int64",
         "type": "integer"
        }
       ],
       "ref": "c3dd61e9-adc0-4066-9f8b-64bcc4dfa60b",
       "rows": [
        [
         "La Unión",
         "52"
        ],
        [
         "Buenavista",
         "52"
        ],
        [
         "Villanueva",
         "52"
        ],
        [
         "La Victoria",
         "39"
        ],
        [
         "Argelia",
         "39"
        ],
        [
         "Granada",
         "39"
        ],
        [
         "Bolívar",
         "39"
        ],
        [
         "San Francisco",
         "39"
        ],
        [
         "San Andrés",
         "39"
        ],
        [
         "Nariño",
         "39"
        ]
       ],
       "shape": {
        "columns": 1,
        "rows": 10
       }
      },
      "text/plain": [
       "MUNICIPIO\n",
       "La Unión         52\n",
       "Buenavista       52\n",
       "Villanueva       52\n",
       "La Victoria      39\n",
       "Argelia          39\n",
       "Granada          39\n",
       "Bolívar          39\n",
       "San Francisco    39\n",
       "San Andrés       39\n",
       "Nariño           39\n",
       "Name: count, dtype: int64"
      ]
     },
     "execution_count": 5,
     "metadata": {},
     "output_type": "execute_result"
    }
   ],
   "source": [
    "# Conteo de municipios\n",
    "df['MUNICIPIO'].value_counts().head(10)\n"
   ]
  },
  {
   "cell_type": "code",
   "execution_count": 6,
   "id": "c457b3ed",
   "metadata": {},
   "outputs": [
    {
     "data": {
      "application/vnd.microsoft.datawrangler.viewer.v0+json": {
       "columns": [
        {
         "name": "index",
         "rawType": "object",
         "type": "string"
        },
        {
         "name": "AÑO",
         "rawType": "float64",
         "type": "float"
        }
       ],
       "ref": "81b7673f-358c-4a38-8295-33ffc9eabc20",
       "rows": [
        [
         "AÑO",
         "1.0"
        ],
        [
         "REPITENCIA",
         "0.6063569962730486"
        ],
        [
         "REPITENCIA_SECUNDARIA",
         "0.5834533948269561"
        ],
        [
         "REPITENCIA_PRIMARIA",
         "0.5646680055892525"
        ],
        [
         "REPITENCIA_MEDIA",
         "0.4320148274688429"
        ],
        [
         "REPROBACIÓN",
         "0.3653747128155204"
        ],
        [
         "REPROBACIÓN_SECUNDARIA",
         "0.3623084986159801"
        ],
        [
         "REPROBACIÓN_PRIMARIA",
         "0.3081028260893528"
        ],
        [
         "REPROBACIÓN_MEDIA",
         "0.26464430095827934"
        ],
        [
         "REPITENCIA_TRANSICIÓN",
         "0.2535156368277628"
        ],
        [
         "COBERTURA_NETA_MEDIA",
         "0.19061755936662964"
        ],
        [
         "COBERTURA_BRUTA_MEDIA",
         "0.14961221014203457"
        ],
        [
         "COBERTURA_NETA_SECUNDARIA",
         "0.1338829579076899"
        ],
        [
         "APROBACIÓN_TRANSICIÓN",
         "0.11214231470501601"
        ],
        [
         "REPROBACIÓN_TRANSICIÓN",
         "0.11214231470501601"
        ],
        [
         "TAMAÑO_PROMEDIO_DE_GRUPO",
         "0.03576840425209276"
        ],
        [
         "COBERTURA_NETA_TRANSICIÓN",
         "0.023264406999925984"
        ],
        [
         "COBERTURA_BRUTA_SECUNDARIA",
         "0.016435606876142855"
        ],
        [
         "DESERCIÓN_MEDIA",
         "0.008995119902369581"
        ],
        [
         "SEDES_CONECTADAS_A_INTERNET",
         "0.006010032304869661"
        ],
        [
         "COBERTURA_BRUTA",
         "0.0038343427005614744"
        ],
        [
         "TASA_MATRICULACIÓN_5_16",
         "0.0022265491403531735"
        ],
        [
         "CÓDIGO_DEPARTAMENTO",
         "-0.000929641213537254"
        ],
        [
         "CÓDIGO_MUNICIPIO",
         "-0.0009356515721742507"
        ],
        [
         "COBERTURA_BRUTA_TRANSICIÓN",
         "-0.005032743692909672"
        ],
        [
         "COBERTURA_NETA",
         "-0.005288553711168675"
        ],
        [
         "DESERCIÓN_SECUNDARIA",
         "-0.007338149318186116"
        ],
        [
         "COBERTURA_BRUTA_PRIMARIA",
         "-0.019127696286569327"
        ],
        [
         "DESERCIÓN",
         "-0.022809185175187853"
        ],
        [
         "COBERTURA_NETA_PRIMARIA",
         "-0.03976123155272024"
        ],
        [
         "DESERCIÓN_TRANSICIÓN",
         "-0.0431325406985269"
        ],
        [
         "DESERCIÓN_PRIMARIA",
         "-0.07487279720417513"
        ],
        [
         "APROBACIÓN_MEDIA",
         "-0.17170016718427353"
        ],
        [
         "APROBACIÓN_PRIMARIA",
         "-0.17654733371098486"
        ],
        [
         "APROBACIÓN",
         "-0.2474706282019062"
        ],
        [
         "APROBACIÓN_SECUNDARIA",
         "-0.273007706431884"
        ],
        [
         "CÓDIGO_ETC",
         "-0.2777502225783284"
        ]
       ],
       "shape": {
        "columns": 1,
        "rows": 37
       }
      },
      "text/plain": [
       "AÑO                            1.000000\n",
       "REPITENCIA                     0.606357\n",
       "REPITENCIA_SECUNDARIA          0.583453\n",
       "REPITENCIA_PRIMARIA            0.564668\n",
       "REPITENCIA_MEDIA               0.432015\n",
       "REPROBACIÓN                    0.365375\n",
       "REPROBACIÓN_SECUNDARIA         0.362308\n",
       "REPROBACIÓN_PRIMARIA           0.308103\n",
       "REPROBACIÓN_MEDIA              0.264644\n",
       "REPITENCIA_TRANSICIÓN          0.253516\n",
       "COBERTURA_NETA_MEDIA           0.190618\n",
       "COBERTURA_BRUTA_MEDIA          0.149612\n",
       "COBERTURA_NETA_SECUNDARIA      0.133883\n",
       "APROBACIÓN_TRANSICIÓN          0.112142\n",
       "REPROBACIÓN_TRANSICIÓN         0.112142\n",
       "TAMAÑO_PROMEDIO_DE_GRUPO       0.035768\n",
       "COBERTURA_NETA_TRANSICIÓN      0.023264\n",
       "COBERTURA_BRUTA_SECUNDARIA     0.016436\n",
       "DESERCIÓN_MEDIA                0.008995\n",
       "SEDES_CONECTADAS_A_INTERNET    0.006010\n",
       "COBERTURA_BRUTA                0.003834\n",
       "TASA_MATRICULACIÓN_5_16        0.002227\n",
       "CÓDIGO_DEPARTAMENTO           -0.000930\n",
       "CÓDIGO_MUNICIPIO              -0.000936\n",
       "COBERTURA_BRUTA_TRANSICIÓN    -0.005033\n",
       "COBERTURA_NETA                -0.005289\n",
       "DESERCIÓN_SECUNDARIA          -0.007338\n",
       "COBERTURA_BRUTA_PRIMARIA      -0.019128\n",
       "DESERCIÓN                     -0.022809\n",
       "COBERTURA_NETA_PRIMARIA       -0.039761\n",
       "DESERCIÓN_TRANSICIÓN          -0.043133\n",
       "DESERCIÓN_PRIMARIA            -0.074873\n",
       "APROBACIÓN_MEDIA              -0.171700\n",
       "APROBACIÓN_PRIMARIA           -0.176547\n",
       "APROBACIÓN                    -0.247471\n",
       "APROBACIÓN_SECUNDARIA         -0.273008\n",
       "CÓDIGO_ETC                    -0.277750\n",
       "Name: AÑO, dtype: float64"
      ]
     },
     "execution_count": 6,
     "metadata": {},
     "output_type": "execute_result"
    }
   ],
   "source": [
    "# Matriz de correlación\n",
    "correlacion = df.corr(numeric_only=True)\n",
    "\n",
    "# Mostrar las más fuertes (positiva o negativa)\n",
    "correlacion['AÑO'].sort_values(ascending=False)\n"
   ]
  },
  {
   "cell_type": "code",
   "execution_count": 8,
   "id": "d5cc6b9f",
   "metadata": {},
   "outputs": [
    {
     "data": {
      "image/png": "[encoded data removed]",
      "text/plain": [
       "<Figure size 640x480 with 1 Axes>"
      ]
     },
     "metadata": {},
     "output_type": "display_data"
    }
   ],
   "source": [
    "import matplotlib.pyplot as plt\n",
    "import seaborn as sns\n",
    "\n",
    "# Histograma de una variable numérica (ajústalo al contenido real del dataset)\n",
    "df['AÑO'].hist(bins=10)\n",
    "plt.title('Distribución por Año')\n",
    "plt.xlabel('Año')\n",
    "plt.ylabel('Cantidad de registros')\n",
    "plt.grid(False)  # Esto elimina las líneas de fondo\n",
    "plt.show()"
   ]
  }
 ],
 "metadata": {
  "kernelspec": {
   "display_name": "Python 3",
   "language": "python",
   "name": "python3"
  },
  "language_info": {
   "codemirror_mode": {
    "name": "ipython",
    "version": 3
   },
   "file_extension": ".py",
   "mimetype": "text/x-python",
   "name": "python",
   "nbconvert_exporter": "python",
   "pygments_lexer": "ipython3",
   "version": "3.12.5"
  }
 },
 "nbformat": 4,
 "nbformat_minor": 5
}
