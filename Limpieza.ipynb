{
 "cells": [
  {
   "cell_type": "markdown",
   "id": "e1878ebd",
   "metadata": {},
   "source": [
    "# LIMPIEZA DE DATOS\n"
   ]
  },
  {
   "cell_type": "code",
   "execution_count": null,
   "id": "eeb93aaa",
   "metadata": {},
   "outputs": [],
   "source": [
    "#importar librerias\n",
    "import pandas as pd\n",
    "import numpy as np\n",
    "import matplotlib.pyplot "
   ]
  }
 ],
 "metadata": {
  "language_info": {
   "name": "python"
  }
 },
 "nbformat": 4,
 "nbformat_minor": 5
}
